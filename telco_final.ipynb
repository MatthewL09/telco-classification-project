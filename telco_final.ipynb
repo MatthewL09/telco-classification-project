{
 "cells": [
  {
   "cell_type": "code",
   "execution_count": 1,
   "id": "45d4b59c-2aa4-4d4b-aa50-a08d058f2f28",
   "metadata": {},
   "outputs": [
    {
     "name": "stdout",
     "output_type": "stream",
     "text": [
      "Using cached csv\n"
     ]
    }
   ],
   "source": [
    "# imports\n",
    "import pandas as pd\n",
    "import numpy as np\n",
    "import matplotlib.pyplot as plt\n",
    "import seaborn as sns\n",
    "from sklearn.model_selection import train_test_split\n",
    "from scipy import stats\n",
    "\n",
    "from sklearn.ensemble import RandomForestClassifier\n",
    "from sklearn.neighbors import KNeighborsClassifier\n",
    "from sklearn.linear_model import LogisticRegression\n",
    "from sklearn.metrics import recall_score, precision_score, f1_score, accuracy_score\n",
    "from sklearn.tree import export_graphviz\n",
    "from sklearn.metrics import classification_report\n",
    "from sklearn.metrics import confusion_matrix\n",
    "\n",
    "import env\n",
    "import acquire\n",
    "import prepare\n",
    "import os\n",
    "\n",
    "# turn off warning boxes for demo\n",
    "import warnings\n",
    "warnings.filterwarnings(\"ignore\")"
   ]
  },
  {
   "cell_type": "markdown",
   "id": "c637278d-7bd3-469b-bd63-e80ea3496149",
   "metadata": {
    "tags": []
   },
   "source": [
    "# Project Goal\n",
    "\n",
    "Identify drivers of customer churn and propose recommendations to improve customer retention. \n",
    "\n",
    "This is accomplished by creating a machine learning model that uses multiple features to accurately predict churn.\n",
    "\n",
    "# Project Description\n",
    "\n",
    "Telco Communications prides itself on customer satisfaction and quality of service. Maintaing a good reputation comes by focusing efforts on current customer and . After identifying key drivers of churn Telco can then focus on improving customer experience and quality of product.\n",
    "\n",
    "# Initial Hypothesis/Questions\n",
    "\n",
    "- Does contract type play a role in churn?\n",
    "- How long were churned customers with Telco before leaving? \n",
    "- Is service type associated with churn? \n",
    "- How much does the average customer pay each month?"
   ]
  },
  {
   "cell_type": "markdown",
   "id": "234b0e61-fb8e-4c2f-948b-0c9d4b386900",
   "metadata": {
    "tags": []
   },
   "source": [
    "# Wrangle Telco Data\n",
    "\n",
    "To acquire the Telco data, from our mySQL server, I used the telco_db and joined all 4 tables together.\n",
    "- This results in a dataframe containing customers, contract types, payment_types, and internet service options into one new dataframe.\n",
    "\n",
    " **Connect to mySQL database and run the query to return the table in the form of a dataframe**"
   ]
  },
  {
   "cell_type": "code",
   "execution_count": 2,
   "id": "6d7e802b-29a5-48a9-867f-0c1377950ca5",
   "metadata": {},
   "outputs": [
    {
     "name": "stdout",
     "output_type": "stream",
     "text": [
      "Using cached csv\n"
     ]
    }
   ],
   "source": [
    "df = acquire.get_telco_data()"
   ]
  },
  {
   "cell_type": "markdown",
   "id": "ea4e1f4a-2a51-425d-b209-72173820b0b7",
   "metadata": {},
   "source": [
    "# Prepare\n",
    "\n",
    "To prepare the data, I created a function that does the following:\n",
    "- Dummy Vars: Convert all columns to ML friendly values\n",
    "- Drop columns: dropping columns that are duplicates or not needed\n",
    "- Drop rows: Where tenure was missing (these rows indicate new customers)  \n",
    "- Split data: Splits the data into three samples"
   ]
  },
  {
   "cell_type": "code",
   "execution_count": 3,
   "id": "c93016f1-0c1c-4f3c-930d-b78874e4c509",
   "metadata": {},
   "outputs": [
    {
     "data": {
      "text/plain": [
       "(7043, 24)"
      ]
     },
     "execution_count": 3,
     "metadata": {},
     "output_type": "execute_result"
    }
   ],
   "source": [
    "df.shape"
   ]
  },
  {
   "cell_type": "code",
   "execution_count": 4,
   "id": "51b8465e-b0e6-481d-b273-3fc490aee57d",
   "metadata": {},
   "outputs": [],
   "source": [
    "train, validate, test = prepare.prep_telco_data(df)"
   ]
  },
  {
   "cell_type": "code",
   "execution_count": 5,
   "id": "66625978-5373-42d3-b000-3c2ac5f77d32",
   "metadata": {},
   "outputs": [
    {
     "data": {
      "text/plain": [
       "((3937, 35), (1688, 35), (1407, 35))"
      ]
     },
     "execution_count": 5,
     "metadata": {},
     "output_type": "execute_result"
    }
   ],
   "source": [
    "train.shape, validate.shape, test.shape"
   ]
  },
  {
   "cell_type": "markdown",
   "id": "91842658-6adf-416e-a0d8-aea0ea51bbbd",
   "metadata": {},
   "source": [
    "- Our data is now split into three samples so that we can explore, fit models, and evaluate without looking at new data.\n",
    "- The validate sample is used to verify that our models built are not overfit to the train dataset\n",
    "- The test set is used to give an estimate of how this model will perform on new data \n"
   ]
  },
  {
   "cell_type": "markdown",
   "id": "4702670d-17ba-4874-be11-30d2c8d21613",
   "metadata": {},
   "source": [
    "# Data Context"
   ]
  },
  {
   "cell_type": "markdown",
   "id": "ce9fe180-9671-4a77-9ad0-e87fbd252088",
   "metadata": {
    "tags": []
   },
   "source": [
    "####  The data is made up of 7,043 customers, \n",
    "####  The current churn rate is 27%\n",
    "####  Most customers will  churn in within their first 10 months \n",
    "####  The average rate for customers who churn is higher than the overall \n",
    "####  Fiber optic is associated with higher risk of churn"
   ]
  },
  {
   "cell_type": "code",
   "execution_count": 6,
   "id": "79e71ded-8741-42e1-9f83-3af1580eb91d",
   "metadata": {},
   "outputs": [
    {
     "data": {
      "image/png": "[encoded data removed]",
      "text/plain": [
       "<Figure size 576x720 with 1 Axes>"
      ]
     },
     "metadata": {
      "needs_background": "light"
     },
     "output_type": "display_data"
    },
    {
     "name": "stdout",
     "output_type": "stream",
     "text": [
      "Churned and Non Churn Counts \n",
      "1    1046\n",
      "0    2891\n",
      "Name: churn, dtype: int64\n"
     ]
    }
   ],
   "source": [
    "#  creating a visual for the churn rate of customers in the train data\n",
    "\n",
    "plt.figure(figsize = (8, 10))\n",
    "sns.histplot( x = 'churn', hue ='churn', palette = 'cubehelix', data = train, binwidth=.5)\n",
    "plt.title('Customer Churn Count', fontsize = 20)\n",
    "plt.xlabel(' ')\n",
    "plt.xticks([0,1], ['No Churn', 'Churn'], fontsize = 16)\n",
    "plt.ylabel('Number of Customers', fontsize = 16)\n",
    "plt.show()\n",
    "\n",
    "print(f'Churned and Non Churn Counts \\n{train.churn.value_counts(ascending = True)}')"
   ]
  },
  {
   "cell_type": "markdown",
   "id": "f1620b6b-5b96-43a6-adf0-8736afc81acb",
   "metadata": {},
   "source": [
    "# Exploratory Analysis : Who is more likely to Churn?"
   ]
  },
  {
   "cell_type": "markdown",
   "id": "88d13427-85cf-4828-afce-1e2ffc3378ce",
   "metadata": {},
   "source": [
    "### Further analysis will answer the following questions: \n",
    "\n",
    "### 1. What is the average length of tenure before a customer churns?\n",
    "### 2. Is service associated with churn?\n",
    "### 3. Do customers with autopay churn more than those without?\n",
    "### 4. Do customers who churn pay more than customers who don't churn?"
   ]
  },
  {
   "cell_type": "markdown",
   "id": "f432901d-e6cf-4652-8909-f190aab72600",
   "metadata": {
    "tags": []
   },
   "source": [
    "## **Question 1: What is the average length of tenure before customers churn?**"
   ]
  },
  {
   "cell_type": "code",
   "execution_count": 7,
   "id": "3d2083ac-829c-4caf-bca5-85b55221d9e6",
   "metadata": {},
   "outputs": [
    {
     "data": {
      "image/png": "[encoded data removed]",
      "text/plain": [
       "<Figure size 576x576 with 1 Axes>"
      ]
     },
     "metadata": {
      "needs_background": "light"
     },
     "output_type": "display_data"
    }
   ],
   "source": [
    "# take a look at the tenure of all contracts types and churn rates\n",
    "sns.catplot( x= 'churn', y = 'tenure',\n",
    "            kind = 'box', \n",
    "            color = 'orange', size = 8, width = .3,\n",
    "            data = train[train.churn == 1])\n",
    "\n",
    "\n",
    "plt.title('Half of Customers Who Churn do so in the First 10 Months', fontsize = 20)\n",
    "plt.xlabel('Churned Customers', fontsize = 16)\n",
    "plt.ylabel('Months with Telco', fontsize = 16)\n",
    "plt.xticks([1], ['Has Churned'])\n",
    "plt.axhline(y=10, linestyle = '--', color = 'black')\n",
    "plt.show()"
   ]
  },
  {
   "cell_type": "markdown",
   "id": "68831c52-68bd-49e2-b66e-120068d1782b",
   "metadata": {},
   "source": [
    "## **Answer 1: Highest percentage of customers who churn will churn within the first 10 months.**"
   ]
  },
  {
   "cell_type": "markdown",
   "id": "6078ebab-11bf-49de-830d-c759e9f9c939",
   "metadata": {},
   "source": [
    "## **Question 2: Is service type associated with churn?**"
   ]
  },
  {
   "cell_type": "code",
   "execution_count": 8,
   "id": "170390e7-5535-42d1-9ac1-032b0bc797b7",
   "metadata": {},
   "outputs": [
    {
     "data": {
      "image/png": "[encoded data removed]",
      "text/plain": [
       "<Figure size 1008x576 with 1 Axes>"
      ]
     },
     "metadata": {
      "needs_background": "light"
     },
     "output_type": "display_data"
    },
    {
     "data": {
      "text/plain": [
       "Fiber optic    1722\n",
       "DSL            1348\n",
       "None            867\n",
       "Name: internet_service_type, dtype: int64"
      ]
     },
     "execution_count": 8,
     "metadata": {},
     "output_type": "execute_result"
    }
   ],
   "source": [
    "# plot visualization of number of customers churned/not churned by internet service type\n",
    "plt.figure(figsize=(14,8))\n",
    "sns.countplot(x='internet_service_type', hue ='churn', palette = 'cubehelix', data=train)\n",
    "plt.title('Fiber Optic Customers Have Higher Risk of Churn', fontsize=18)\n",
    "plt.legend(labels=['Not Churned','Churned'], fontsize = 14)\n",
    "plt.xticks(fontsize = 16)\n",
    "plt.xlabel(' ')\n",
    "plt.ylabel('Number of Customers', fontsize =18)\n",
    "plt.show()\n",
    "\n",
    "train.internet_service_type.value_counts()"
   ]
  },
  {
   "cell_type": "markdown",
   "id": "ce4689f0-518b-48d7-aecd-c5ba9a2f1c5b",
   "metadata": {},
   "source": [
    "## **Answer 2: Customers with Fiber optic are more likely to churn compared to customers without.**"
   ]
  },
  {
   "cell_type": "markdown",
   "id": "bca82883-1004-4c8a-aa8c-f66b42a65b31",
   "metadata": {
    "tags": []
   },
   "source": [
    "## **Question 3: Is autopay associated with churn?**"
   ]
  },
  {
   "cell_type": "markdown",
   "id": "7fbda3bd-b413-4d4e-8f76-f38d3ce62b46",
   "metadata": {},
   "source": [
    "## Null Hypothesis - Autopayment plans and churn are independent of each other\n",
    "## Alternative hypothesis - Autopay and churn are not independent of each other"
   ]
  },
  {
   "cell_type": "code",
   "execution_count": 9,
   "id": "8a1e3a7c-bbbd-40ed-abd3-f7c1e6c2870e",
   "metadata": {},
   "outputs": [
    {
     "name": "stdout",
     "output_type": "stream",
     "text": [
      "Observed\n",
      "\n",
      "[[1428 1463]\n",
      " [ 752  294]]\n",
      "====================\n",
      "Expected\n",
      "\n",
      "[[1600.80772162 1290.19227838]\n",
      " [ 579.19227838  466.80772162]]\n",
      "====================\n",
      "\n",
      "chi^2 = 156.42\n",
      "p     = 0.00\n",
      "We reject the null hypothesis.\n"
     ]
    }
   ],
   "source": [
    "alpha = .05 \n",
    "\n",
    "observed = pd.crosstab(train.churn, train.is_autopay)\n",
    "observed\n",
    "chi2, p, degf, expected = stats.chi2_contingency(observed)\n",
    "\n",
    "print('Observed\\n')\n",
    "print(observed.values)\n",
    "print('====================\\nExpected\\n')\n",
    "print(expected)\n",
    "print('====================\\n')\n",
    "print(f'chi^2 = {chi2:.2f}')\n",
    "print(f'p     = {p:.2f}')\n",
    "if p<alpha:\n",
    "    print('We reject the null hypothesis.')\n",
    "else:\n",
    "    print('We fail to reject the null hypothesis.')"
   ]
  },
  {
   "cell_type": "code",
   "execution_count": 10,
   "id": "5951f3ef-a8a5-40cf-9e8b-44ca4246b11b",
   "metadata": {},
   "outputs": [
    {
     "data": {
      "image/png": "[encoded data removed]",
      "text/plain": [
       "<Figure size 576x720 with 1 Axes>"
      ]
     },
     "metadata": {
      "needs_background": "light"
     },
     "output_type": "display_data"
    }
   ],
   "source": [
    "# creating a countplot to compare churned customers payment types\n",
    "\n",
    "plt.figure(figsize = (8,10)), \n",
    "sns.countplot( x = 'is_autopay', palette = 'cubehelix', data = train[train.churn ==1])\n",
    "plt.title('Autopay and Churned Customers', fontsize=20)\n",
    "\n",
    "plt.xticks([0, 1], ['Not Autopay', 'Autopay'], fontsize =18)\n",
    "plt.ylabel('Number of Customers', fontsize =18)\n",
    "plt.xlabel(' ')\n",
    "plt.show()\n"
   ]
  },
  {
   "cell_type": "markdown",
   "id": "75690e10-b7ab-46ed-8364-f9d12af6bd49",
   "metadata": {},
   "source": [
    "## Answer 3: Non autopayment plans are associated with higher risk of churn"
   ]
  },
  {
   "cell_type": "markdown",
   "id": "66e55b3c-b2df-45a4-9a81-ae8216ad2a5f",
   "metadata": {},
   "source": [
    "## **Question 4: Do customers who churn pay more than the average customer?**"
   ]
  },
  {
   "cell_type": "code",
   "execution_count": 11,
   "id": "8567cf54-44b7-4b0a-a4b6-b42412884a45",
   "metadata": {},
   "outputs": [
    {
     "name": "stdout",
     "output_type": "stream",
     "text": [
      "The average customer at Telco has a monthly bill of $ 64.81\n"
     ]
    }
   ],
   "source": [
    "print(f'The average customer at Telco has a monthly bill of ${train.monthly_charges.mean(): .2f}')"
   ]
  },
  {
   "cell_type": "markdown",
   "id": "e0a91cf9-e4b0-48db-bff9-357dd9f05676",
   "metadata": {},
   "source": [
    "### Null Hypothesis: Churned customers had monthly charges equal to or less than all customers\n",
    "\n",
    "### Alternate Hypothesis: Monthly charges for churned customers are higher than the average monthly rate\n",
    "\n",
    "## t-test"
   ]
  },
  {
   "cell_type": "code",
   "execution_count": 12,
   "id": "1c26adf6-423d-4623-91e0-b037c104fed7",
   "metadata": {},
   "outputs": [
    {
     "name": "stdout",
     "output_type": "stream",
     "text": [
      "We reject the null hypothesis\n",
      "13.037366230308015 2.0798982128378347e-36 0.05\n"
     ]
    }
   ],
   "source": [
    "# Independent groups. Churned vs everyone and comparing monthly charges\n",
    "\n",
    "alpha = .05\n",
    "churn_sample = train[train.churn ==1].monthly_charges\n",
    "overall_mean = train.monthly_charges.mean()\n",
    "\n",
    "t, p = stats.ttest_1samp(churn_sample, overall_mean)\n",
    "if p/2 > alpha:\n",
    "    print('We fail to reject the null hypothesis')\n",
    "elif t <0:\n",
    "    print('We fail to reject the null hypothesis')\n",
    "else:\n",
    "    print('We reject the null hypothesis')\n",
    "\n",
    "print(t, p/2, alpha)"
   ]
  },
  {
   "cell_type": "code",
   "execution_count": 13,
   "id": "e081d750-0498-48d2-af3b-7f254c8323e8",
   "metadata": {},
   "outputs": [
    {
     "data": {
      "image/png": "[encoded data removed]",
      "text/plain": [
       "<Figure size 576x720 with 1 Axes>"
      ]
     },
     "metadata": {
      "needs_background": "light"
     },
     "output_type": "display_data"
    }
   ],
   "source": [
    "# plot visualization of distribution of monthly charges for those who have churned vs those who have not churned\n",
    "\n",
    "plt.figure(figsize=(8,10))\n",
    "sns.boxplot(x='churn', y='monthly_charges', palette = ['lightgreen', 'orange'], data=train )\n",
    "plt.title('Higher Rate Higher Risk', fontsize=18)\n",
    "plt.xlabel(' ')\n",
    "plt.ylabel('Monthly Charge Amount ($)', fontsize = 16)\n",
    "plt.xticks([0, 1], ['All Customers','Did Churn'], fontsize = 16)\n",
    "plt.axhline(y = 64.81, linestyle = '--', color='red')\n",
    "plt.show()"
   ]
  },
  {
   "cell_type": "markdown",
   "id": "4135b5cc-d2a8-4ec1-be63-bed845808696",
   "metadata": {},
   "source": [
    "## **Answer 4: If a customer is paying an above average rate they have an above average risk of churn**"
   ]
  },
  {
   "cell_type": "markdown",
   "id": "31c72f9a-4891-4c87-aff8-0731b9eb620d",
   "metadata": {
    "tags": []
   },
   "source": [
    "# **Key Takeaways/Features from Exploration:**\n",
    "### - Customers are at highest risk of churn in their first 10 months\n",
    "### - Customers with Fiber Optic churn at higher rates compared to those without\n",
    "### - Autopayment plans reduce risk of churn\n",
    "### - Higher than average monthly rates are associated with churn"
   ]
  },
  {
   "cell_type": "markdown",
   "id": "192cf8c5-e159-46dd-8c5e-0720a3a49d9c",
   "metadata": {},
   "source": [
    "# Predicting Churn\n",
    "\n",
    "### Classification machine learning algorithms will be fit with our training data and evaluated on our validation data. \n",
    "### Models are fit with key features drawn from exploration phase:\n",
    "    - 'tenure', 'monthly_charges', 'total_charges', 'is_autopay', 'phone_service', 'month_to_month_contract', \n",
    "    'one_year_contract', 'two_year_contract', 'dsl_internet', 'fiber_optic_internet', 'no_internet_service'\n",
    "### The model chosen will be based on accuracy because we are working with data that is mostly balanced"
   ]
  },
  {
   "cell_type": "markdown",
   "id": "2b3cc205-6f15-4cab-9918-4c7e4d3746f7",
   "metadata": {},
   "source": [
    "# Baseline\n",
    "\n",
    "### Baseline is a model that predicts the most common outcome (No Churn).\n",
    "### - Accuracy of the baseline is compared to accuracy of ML models"
   ]
  },
  {
   "cell_type": "code",
   "execution_count": 14,
   "id": "31de8737-f0d7-4a54-8bd5-32b9652bab72",
   "metadata": {},
   "outputs": [
    {
     "name": "stdout",
     "output_type": "stream",
     "text": [
      " Baseline Accuracy performed at 73.43%\n"
     ]
    }
   ],
   "source": [
    "baseline_accuracy = (train.churn == 0).mean()\n",
    "print(f' Baseline Accuracy performed at {baseline_accuracy :.2%}')"
   ]
  },
  {
   "cell_type": "markdown",
   "id": "1283a37d-401c-471d-bbcb-4b2ce7281ee2",
   "metadata": {},
   "source": [
    "### Baseline Accuracy performed at 73.43%. \n",
    "### To provide value, the selected model must provide greater accuracy"
   ]
  },
  {
   "cell_type": "code",
   "execution_count": 15,
   "id": "6267d3af-4d68-4a03-af8f-8bda01947408",
   "metadata": {},
   "outputs": [
    {
     "data": {
      "text/plain": [
       "((3937, 11), (1688, 11), (1407, 11))"
      ]
     },
     "execution_count": 15,
     "metadata": {},
     "output_type": "execute_result"
    }
   ],
   "source": [
    "# Create X and y version of train, y is a series of the target variable and X are all the features. \n",
    "# Choosing to select features that my exploration process proved to have strong correlation with churn\n",
    "drop_cols = ['churn', 'customer_id', 'multiple_lines', 'contract_type', 'internet_service_type', 'payment_type', 'streaming_tv', \n",
    "             'streaming_movies', 'mailed_check_nonauto', 'electronic_check_nonauto', 'credit_card_autopay', 'bank_transfer_autopay',\n",
    "            'has_partner', 'has_dependents', 'online_security', 'online_backup', 'device_protection', 'tech_support', 'no_phone_service', \n",
    "             'is_male', 'has_multiple_lines', 'one_line', 'is_senior_citizen', 'paperless_billing']\n",
    "\n",
    "\n",
    "\n",
    "X_train = train.drop(columns = drop_cols)\n",
    "y_train = train.churn\n",
    "\n",
    "X_validate = validate.drop(columns = drop_cols)\n",
    "y_validate = validate.churn\n",
    "\n",
    "X_test = test.drop(columns = drop_cols)\n",
    "y_test = test.churn\n",
    "\n",
    "# Check the shape of the data to make sure all columns are the same\n",
    "\n",
    "X_train.shape, X_validate.shape, X_test.shape"
   ]
  },
  {
   "cell_type": "markdown",
   "id": "f2b1114e-7e3b-4da9-9b38-fa5c7bed58f6",
   "metadata": {},
   "source": [
    "## KNearest Neighbors ML Model"
   ]
  },
  {
   "cell_type": "code",
   "execution_count": 16,
   "id": "28e5ac66-c998-4ccd-99d8-efd2ed32756d",
   "metadata": {},
   "outputs": [
    {
     "name": "stdout",
     "output_type": "stream",
     "text": [
      "train_accuracy:  81.36%\n",
      "validate_accuracy:  78.55%\n"
     ]
    }
   ],
   "source": [
    "# Evaluate KNearest Neighbors model on train & validate dataset\n",
    "            \n",
    "# define the model setting hyperparameter to 8\n",
    "knn = KNeighborsClassifier(n_neighbors=8)\n",
    "    \n",
    "# fit the model on train\n",
    "knn.fit(X_train, y_train)\n",
    "    \n",
    "# use the model and evaluate performance on train\n",
    "train_accuracy = knn.score(X_train, y_train)\n",
    "# use the model and evaluate performance on validate\n",
    "validate_accuracy = knn.score(X_validate, y_validate)\n",
    "    \n",
    "print(f'train_accuracy: {train_accuracy: .2%}')\n",
    "print(f'validate_accuracy: {validate_accuracy: .2%}')"
   ]
  },
  {
   "cell_type": "markdown",
   "id": "2f2ada81-09e4-4391-a976-d41abe719775",
   "metadata": {},
   "source": [
    "## Random Forest ML Model"
   ]
  },
  {
   "cell_type": "code",
   "execution_count": 17,
   "id": "1197a24a-2222-40cc-9cb8-c2058fca80a7",
   "metadata": {},
   "outputs": [
    {
     "name": "stdout",
     "output_type": "stream",
     "text": [
      "train_accuracy:  82.83%\n",
      "validate_accuracy:  77.55%\n"
     ]
    }
   ],
   "source": [
    "# Evaluate Random Forest model on train and validate dataset\n",
    "\n",
    "# define the model setting hyperparameters to values for current loop\n",
    "forest = RandomForestClassifier(max_depth=9, min_samples_leaf=9, random_state=123)\n",
    "\n",
    "# fit the model on train\n",
    "forest = forest.fit(X_train, y_train)\n",
    "\n",
    "# use the model and evaluate performance on train\n",
    "train_accuracy = forest.score(X_train, y_train)\n",
    "# use the model and evaluate performance on validate\n",
    "validate_accuracy = forest.score(X_validate, y_validate)\n",
    "\n",
    "print(f'train_accuracy: {train_accuracy: .2%}')\n",
    "print(f'validate_accuracy: {validate_accuracy: .2%}')"
   ]
  },
  {
   "cell_type": "markdown",
   "id": "a1839e09-1765-4b7a-a668-daca8333a1a3",
   "metadata": {},
   "source": [
    "## Logistic Regression ML model"
   ]
  },
  {
   "cell_type": "code",
   "execution_count": 18,
   "id": "49480d59-81f5-46bd-963a-3f8aa1769a7d",
   "metadata": {},
   "outputs": [
    {
     "name": "stdout",
     "output_type": "stream",
     "text": [
      "train_accuracy:  79.65%\n",
      "validate_accuracy:  78.02%\n"
     ]
    }
   ],
   "source": [
    "# Evaluate Logistic Regession model on train and validate dataset\n",
    "\n",
    "logit = LogisticRegression(C=1)\n",
    "    \n",
    "# fit the model on train\n",
    "logit.fit(X_train, y_train)\n",
    "    \n",
    "# use the model and evaluate performance on train\n",
    "train_accuracy = logit.score(X_train, y_train)\n",
    "# use the model and evaluate performance on validate\n",
    "validate_accuracy = logit.score(X_validate, y_validate)\n",
    "\n",
    "print(f'train_accuracy: {train_accuracy: .2%}')\n",
    "print(f'validate_accuracy: {validate_accuracy: .2%}')"
   ]
  },
  {
   "cell_type": "markdown",
   "id": "32fbf4cf-7192-4ee9-bd27-b2e87698613d",
   "metadata": {
    "tags": []
   },
   "source": [
    "# EXPECTATION OF MODEL PERFORMANCE\n",
    "\n",
    "## The logistical regression model proved to be the most accurate.\n",
    "\n",
    "## An overfit model is not of concern here. "
   ]
  },
  {
   "cell_type": "code",
   "execution_count": 19,
   "id": "7ef7a3f4-63a9-4876-8bf6-9fc3f132998d",
   "metadata": {},
   "outputs": [
    {
     "name": "stdout",
     "output_type": "stream",
     "text": [
      " Test accuracy =  79.96%\n"
     ]
    }
   ],
   "source": [
    "# Using the most accurate model and performing evaluation on test dataset\n",
    "print(f' Test accuracy = {logit.score(X_test, y_test): .2%}')"
   ]
  },
  {
   "cell_type": "markdown",
   "id": "75e370b9-71d6-4e62-9526-8ea5c98f1c1f",
   "metadata": {},
   "source": [
    "## **Test accuracy for this model is _80%_, which is 7% higher than the baseline**"
   ]
  },
  {
   "cell_type": "markdown",
   "id": "d0a23106-8b5e-41f2-ba33-f20833a7a79d",
   "metadata": {},
   "source": [
    "# **CONCLUSION**"
   ]
  },
  {
   "cell_type": "markdown",
   "id": "6c6f9d51-3e3d-49bf-a922-56c99dc9a4e3",
   "metadata": {},
   "source": [
    "## SUMMARY\n",
    "\n",
    "### Project goals were:\n",
    " #### - Identify key drivers of customer churn \n",
    " \n",
    " #### - Construct a model that accurately predicts at risk customers\n",
    " \n",
    "### Key drivers of churn were identified as:\n",
    "####  - Month to month contracts\n",
    " \n",
    " #### - Higher than average monthly rates\n",
    " \n",
    "####  - Fiber optic internet service\n",
    " \n",
    "#### - Non Autopayment plans\n",
    " \n",
    "### The model is expected to predict at risk customers with 80% accuracy. Using this model on unseen data will help focus retention efforts.\n",
    "\n",
    "\n",
    "## RECOMMENDATIONS\n",
    "\n",
    "#### - Incentivize customers with non autopayment plans into an autopay plan\n",
    "\n",
    "#### - Reduce monthly price for customers who have Fiber Optic\n",
    "\n",
    "#### - Provide feedback surveys every quarter to help follow emerging trends\n",
    "\n",
    "## NEXT STEPS\n",
    "\n",
    "#### - With more time I would like to gather and analyze customer satisfaction reports and apply more feature engineering to improve future models"
   ]
  }
 ],
 "metadata": {
  "kernelspec": {
   "display_name": "Python 3 (ipykernel)",
   "language": "python",
   "name": "python3"
  },
  "language_info": {
   "codemirror_mode": {
    "name": "ipython",
    "version": 3
   },
   "file_extension": ".py",
   "mimetype": "text/x-python",
   "name": "python",
   "nbconvert_exporter": "python",
   "pygments_lexer": "ipython3",
   "version": "3.9.7"
  }
 },
 "nbformat": 4,
 "nbformat_minor": 5
}
